{
 "cells": [
  {
   "cell_type": "markdown",
   "metadata": {},
   "source": [
    "`draymond.csv` contains the DRAYMOND ratings (Defensive Rating Accounting for Yielding Minimal Openness by Nearest Defender) for every player since the 2013-14 season.\n",
    "\n",
    "Column | Description\n",
    "-------|-------------\n",
    "`season` | The second year of the season; for example, 2018-2019 season would be listed as 2019\n",
    "`player`| Name of the player\n",
    "`posessions` | Number of possessions a player played during the season\n",
    "`DRAYMOND` | Defensive Rating Accounting for Yielding Minimal Openness by Nearest Defender"
   ]
  },
  {
   "cell_type": "code",
   "execution_count": 2,
   "metadata": {},
   "outputs": [],
   "source": [
    "# library\n",
    "import seaborn as sns\n",
    "import pandas as pd\n",
    "import numpy as np"
   ]
  },
  {
   "cell_type": "code",
   "execution_count": 3,
   "metadata": {},
   "outputs": [],
   "source": [
    "df = pd.read_csv('draymond.csv')"
   ]
  },
  {
   "cell_type": "code",
   "execution_count": 4,
   "metadata": {},
   "outputs": [
    {
     "data": {
      "text/html": [
       "<div>\n",
       "<style scoped>\n",
       "    .dataframe tbody tr th:only-of-type {\n",
       "        vertical-align: middle;\n",
       "    }\n",
       "\n",
       "    .dataframe tbody tr th {\n",
       "        vertical-align: top;\n",
       "    }\n",
       "\n",
       "    .dataframe thead th {\n",
       "        text-align: right;\n",
       "    }\n",
       "</style>\n",
       "<table border=\"1\" class=\"dataframe\">\n",
       "  <thead>\n",
       "    <tr style=\"text-align: right;\">\n",
       "      <th></th>\n",
       "      <th>season</th>\n",
       "      <th>player</th>\n",
       "      <th>possessions</th>\n",
       "      <th>DRAYMOND</th>\n",
       "    </tr>\n",
       "  </thead>\n",
       "  <tbody>\n",
       "    <tr>\n",
       "      <td>0</td>\n",
       "      <td>2017</td>\n",
       "      <td>AJ Hammons</td>\n",
       "      <td>331.025800</td>\n",
       "      <td>-0.176680</td>\n",
       "    </tr>\n",
       "    <tr>\n",
       "      <td>1</td>\n",
       "      <td>2014</td>\n",
       "      <td>AJ Price</td>\n",
       "      <td>211.715600</td>\n",
       "      <td>5.912172</td>\n",
       "    </tr>\n",
       "    <tr>\n",
       "      <td>2</td>\n",
       "      <td>2015</td>\n",
       "      <td>AJ Price</td>\n",
       "      <td>633.518600</td>\n",
       "      <td>-1.790921</td>\n",
       "    </tr>\n",
       "    <tr>\n",
       "      <td>3</td>\n",
       "      <td>2014</td>\n",
       "      <td>Aaron Brooks</td>\n",
       "      <td>3257.934000</td>\n",
       "      <td>-0.952900</td>\n",
       "    </tr>\n",
       "    <tr>\n",
       "      <td>4</td>\n",
       "      <td>2015</td>\n",
       "      <td>Aaron Brooks</td>\n",
       "      <td>3984.044000</td>\n",
       "      <td>-0.186127</td>\n",
       "    </tr>\n",
       "    <tr>\n",
       "      <td>...</td>\n",
       "      <td>...</td>\n",
       "      <td>...</td>\n",
       "      <td>...</td>\n",
       "      <td>...</td>\n",
       "    </tr>\n",
       "    <tr>\n",
       "      <td>3004</td>\n",
       "      <td>2019</td>\n",
       "      <td>Zaza Pachulia</td>\n",
       "      <td>1891.814000</td>\n",
       "      <td>1.235672</td>\n",
       "    </tr>\n",
       "    <tr>\n",
       "      <td>3005</td>\n",
       "      <td>2019</td>\n",
       "      <td>Zhaire Smith</td>\n",
       "      <td>252.540800</td>\n",
       "      <td>0.050301</td>\n",
       "    </tr>\n",
       "    <tr>\n",
       "      <td>3006</td>\n",
       "      <td>2018</td>\n",
       "      <td>Zhou Qi</td>\n",
       "      <td>277.535800</td>\n",
       "      <td>2.325245</td>\n",
       "    </tr>\n",
       "    <tr>\n",
       "      <td>3007</td>\n",
       "      <td>2019</td>\n",
       "      <td>Zhou Qi</td>\n",
       "      <td>3.141458</td>\n",
       "      <td>-2.437187</td>\n",
       "    </tr>\n",
       "    <tr>\n",
       "      <td>3008</td>\n",
       "      <td>2015</td>\n",
       "      <td>Zoran Dragic</td>\n",
       "      <td>158.027100</td>\n",
       "      <td>1.920890</td>\n",
       "    </tr>\n",
       "  </tbody>\n",
       "</table>\n",
       "<p>3009 rows × 4 columns</p>\n",
       "</div>"
      ],
      "text/plain": [
       "      season         player  possessions  DRAYMOND\n",
       "0       2017     AJ Hammons   331.025800 -0.176680\n",
       "1       2014       AJ Price   211.715600  5.912172\n",
       "2       2015       AJ Price   633.518600 -1.790921\n",
       "3       2014   Aaron Brooks  3257.934000 -0.952900\n",
       "4       2015   Aaron Brooks  3984.044000 -0.186127\n",
       "...      ...            ...          ...       ...\n",
       "3004    2019  Zaza Pachulia  1891.814000  1.235672\n",
       "3005    2019   Zhaire Smith   252.540800  0.050301\n",
       "3006    2018        Zhou Qi   277.535800  2.325245\n",
       "3007    2019        Zhou Qi     3.141458 -2.437187\n",
       "3008    2015   Zoran Dragic   158.027100  1.920890\n",
       "\n",
       "[3009 rows x 4 columns]"
      ]
     },
     "execution_count": 4,
     "metadata": {},
     "output_type": "execute_result"
    }
   ],
   "source": [
    "df"
   ]
  },
  {
   "cell_type": "code",
   "execution_count": 13,
   "metadata": {},
   "outputs": [
    {
     "data": {
      "text/plain": [
       "<matplotlib.axes._subplots.AxesSubplot at 0x1a20102410>"
      ]
     },
     "execution_count": 13,
     "metadata": {},
     "output_type": "execute_result"
    },
    {
     "data": {
      "image/png": "[encoded data removed]",
      "text/plain": [
       "<Figure size 432x288 with 2 Axes>"
      ]
     },
     "metadata": {
      "needs_background": "light"
     },
     "output_type": "display_data"
    }
   ],
   "source": [
    "sns.heatmap(df, cmap=\"YlGnBu\")"
   ]
  },
  {
   "cell_type": "code",
   "execution_count": null,
   "metadata": {},
   "outputs": [],
   "source": []
  }
 ],
 "metadata": {
  "kernelspec": {
   "display_name": "Python 3",
   "language": "python",
   "name": "python3"
  },
  "language_info": {
   "codemirror_mode": {
    "name": "ipython",
    "version": 3
   },
   "file_extension": ".py",
   "mimetype": "text/x-python",
   "name": "python",
   "nbconvert_exporter": "python",
   "pygments_lexer": "ipython3",
   "version": "3.7.4"
  }
 },
 "nbformat": 4,
 "nbformat_minor": 2
}
